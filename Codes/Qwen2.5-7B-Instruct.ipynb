{
 "cells": [
  {
   "cell_type": "code",
   "execution_count": 1,
   "id": "9275f967-0b11-490a-8f6e-8f3a54865520",
   "metadata": {
    "ExecutionIndicator": {
     "show": false
    },
    "execution": {
     "iopub.execute_input": "2025-01-21T04:05:48.149035Z",
     "iopub.status.busy": "2025-01-21T04:05:48.148643Z",
     "iopub.status.idle": "2025-01-21T04:05:55.290740Z",
     "shell.execute_reply": "2025-01-21T04:05:55.290217Z",
     "shell.execute_reply.started": "2025-01-21T04:05:48.149005Z"
    },
    "tags": []
   },
   "outputs": [
    {
     "name": "stderr",
     "output_type": "stream",
     "text": [
      "2025-01-21 12:05:52.721013: I tensorflow/core/util/port.cc:113] oneDNN custom operations are on. You may see slightly different numerical results due to floating-point round-off errors from different computation orders. To turn them off, set the environment variable `TF_ENABLE_ONEDNN_OPTS=0`.\n",
      "2025-01-21 12:05:53.009857: I tensorflow/core/platform/cpu_feature_guard.cc:210] This TensorFlow binary is optimized to use available CPU instructions in performance-critical operations.\n",
      "To enable the following instructions: AVX2 AVX512F AVX512_VNNI FMA, in other operations, rebuild TensorFlow with the appropriate compiler flags.\n",
      "2025-01-21 12:05:54.004747: W tensorflow/compiler/tf2tensorrt/utils/py_utils.cc:38] TF-TRT Warning: Could not find TensorRT\n"
     ]
    }
   ],
   "source": [
    "# from modelscope.utils.hf_util import AutoModelForCausalLM, AutoTokenizer\n",
    "from transformers import AutoModelForCausalLM, AutoTokenizer, pipeline\n",
    "# from transformers import pipeline\n",
    "from langchain_community.llms.huggingface_pipeline import HuggingFacePipeline\n",
    "from langchain_core.prompts import PromptTemplate\n",
    "import torch\n",
    "import json\n",
    "from tqdm import tqdm\n",
    "import pandas as pd"
   ]
  },
  {
   "cell_type": "code",
   "execution_count": 2,
   "id": "db025c34-628c-48f6-95ae-12b4fd592f09",
   "metadata": {
    "ExecutionIndicator": {
     "show": true
    },
    "execution": {
     "iopub.execute_input": "2025-01-21T04:06:01.759196Z",
     "iopub.status.busy": "2025-01-21T04:06:01.758630Z",
     "iopub.status.idle": "2025-01-21T04:06:55.716690Z",
     "shell.execute_reply": "2025-01-21T04:06:55.716177Z",
     "shell.execute_reply.started": "2025-01-21T04:06:01.759171Z"
    },
    "tags": []
   },
   "outputs": [
    {
     "data": {
      "application/vnd.jupyter.widget-view+json": {
       "model_id": "38f14dd773fc42148edbcdce419805a5",
       "version_major": 2,
       "version_minor": 0
      },
      "text/plain": [
       "Loading checkpoint shards:   0%|          | 0/4 [00:00<?, ?it/s]"
      ]
     },
     "metadata": {},
     "output_type": "display_data"
    },
    {
     "name": "stderr",
     "output_type": "stream",
     "text": [
      "Device set to use cuda:0\n",
      "/tmp/ipykernel_574/3360716439.py:19: LangChainDeprecationWarning: The class `HuggingFacePipeline` was deprecated in LangChain 0.0.37 and will be removed in 1.0. An updated version of the class exists in the :class:`~langchain-huggingface package and should be used instead. To use it run `pip install -U :class:`~langchain-huggingface` and import as `from :class:`~langchain_huggingface import HuggingFacePipeline``.\n",
      "  hf = HuggingFacePipeline(pipeline=pipe)\n"
     ]
    }
   ],
   "source": [
    "tokenizer = AutoTokenizer.from_pretrained(\"/mnt/workspace/.cache/modelscope/hub/qwen/Qwen2___5-7B-Instruct\",\n",
    "                                          trust_remote_code=True)\n",
    "device = torch.device('cuda:0')  # the device to load the model onto\n",
    "model = AutoModelForCausalLM.from_pretrained(\"/mnt/workspace/.cache/modelscope/hub/qwen/Qwen2___5-7B-Instruct\",\n",
    "                                             device_map={\"\": device},\n",
    "                                             torch_dtype=\"auto\",\n",
    "                                             trust_remote_code=True)\n",
    "model.to(device)\n",
    "pipe = pipeline(\n",
    "    \"text-generation\",\n",
    "    model=model,\n",
    "    tokenizer=tokenizer,\n",
    "    max_new_tokens=512,\n",
    "    # do_sample=True,\n",
    "    temperature=0.1,\n",
    "    top_p=0.95,\n",
    "    top_k=40\n",
    ")\n",
    "hf = HuggingFacePipeline(pipeline=pipe)"
   ]
  },
  {
   "cell_type": "markdown",
   "id": "ef83d685-cc9b-47aa-a634-82bc0ae2e32c",
   "metadata": {
    "tags": []
   },
   "source": [
    "### 实验组"
   ]
  },
  {
   "cell_type": "code",
   "execution_count": 3,
   "id": "b3cdb736-69af-45b5-9024-ebf3f2daccad",
   "metadata": {
    "ExecutionIndicator": {
     "show": false
    },
    "execution": {
     "iopub.execute_input": "2025-01-21T03:26:57.036202Z",
     "iopub.status.busy": "2025-01-21T03:26:57.035856Z",
     "iopub.status.idle": "2025-01-21T03:58:08.574876Z",
     "shell.execute_reply": "2025-01-21T03:58:08.574386Z",
     "shell.execute_reply.started": "2025-01-21T03:26:57.036175Z"
    },
    "tags": []
   },
   "outputs": [
    {
     "name": "stderr",
     "output_type": "stream",
     "text": [
      "处理进度:   7%|▋         | 10/153 [01:48<25:21, 10.64s/it]You seem to be using the pipelines sequentially on GPU. In order to maximize efficiency please use a dataset\n",
      "处理进度: 100%|██████████| 153/153 [31:11<00:00, 12.23s/it]\n"
     ]
    }
   ],
   "source": [
    "# 读取 JSON 文件\n",
    "file_path = 'aikps_output.json'  # 替换为你的文件路径\n",
    "\n",
    "# 打开并读取 JSON 文件\n",
    "with open(file_path, 'r', encoding='utf-8') as f:\n",
    "    data = json.load(f)\n",
    "\n",
    "# 初始化一个空列表，用于存储结果\n",
    "results = []\n",
    "\n",
    "# 使用 tqdm 创建进度条\n",
    "for item in tqdm(data, desc=\"处理进度\"):\n",
    "    question = item[0]\n",
    "    context = item[1][0]\n",
    "    template =\"\"\"### 这是一道小学三年级人工智能学科的问题，请使用以下上下文来增强你的回答。\n",
    "        {context}\n",
    "        ### 问题: {question}\n",
    "        ### 以{{\"答案\": \"\"}}的JSON格式返回最终结果。\n",
    "    \"\"\"\n",
    "    prompt = PromptTemplate.from_template(template)\n",
    "    # 假设 hf 是已经定义好的处理函数\n",
    "    chain = prompt | hf\n",
    "    # 修改传递给chain.invoke的参数，确保变量名和模板中的一致\n",
    "    result = chain.invoke({\"context\": context, \"question\": question})\n",
    "\n",
    "    # 将 context、question 和答案添加到结果列表中\n",
    "    results.append([context, question, result])\n",
    "\n",
    "# 将结果列表转换为 DataFrame\n",
    "df = pd.DataFrame(results, columns=['Context', 'Question', 'Answer'])\n",
    "\n",
    "# 将 DataFrame 写入新的 Excel 文件\n",
    "excel_path = 'Qwen-实验组.xlsx'  # 替换为你想要保存的 Excel 文件路径\n",
    "df.to_excel(excel_path, index=False)"
   ]
  },
  {
   "cell_type": "markdown",
   "id": "0f98606c-25ed-469e-b3b7-5cc5b83477cf",
   "metadata": {
    "tags": []
   },
   "source": [
    "### 对照组"
   ]
  },
  {
   "cell_type": "code",
   "execution_count": 3,
   "id": "e834ed7a-b8ee-4908-aab5-3f9dc7ed5baf",
   "metadata": {
    "ExecutionIndicator": {
     "show": true
    },
    "execution": {
     "iopub.execute_input": "2025-01-21T04:07:04.603830Z",
     "iopub.status.busy": "2025-01-21T04:07:04.603454Z",
     "iopub.status.idle": "2025-01-21T04:37:28.437406Z",
     "shell.execute_reply": "2025-01-21T04:37:28.436852Z",
     "shell.execute_reply.started": "2025-01-21T04:07:04.603806Z"
    },
    "tags": []
   },
   "outputs": [
    {
     "name": "stderr",
     "output_type": "stream",
     "text": [
      "处理进度:   7%|▋         | 10/153 [01:15<14:14,  5.97s/it]You seem to be using the pipelines sequentially on GPU. In order to maximize efficiency please use a dataset\n",
      "处理进度: 100%|██████████| 153/153 [30:23<00:00, 11.92s/it]\n"
     ]
    }
   ],
   "source": [
    "# 读取 JSON 文件\n",
    "file_path = 'aikps_output.json'  # 替换为你的文件路径\n",
    "\n",
    "# 打开并读取 JSON 文件\n",
    "with open(file_path, 'r', encoding='utf-8') as f:\n",
    "    data = json.load(f)\n",
    "\n",
    "# 初始化一个空列表，用于存储结果\n",
    "results = []\n",
    "\n",
    "# 使用 tqdm 创建进度条\n",
    "for item in tqdm(data, desc=\"处理进度\"):\n",
    "    question = item[0]\n",
    "    template =\"\"\"### 这是一道小学三年级人工智能学科的问题，请给出你的答案。\n",
    "        ### 问题: {question}\n",
    "        ### 以{{\"答案\": \"\"}}的JSON格式返回最终结果。\n",
    "    \"\"\"\n",
    "    prompt = PromptTemplate.from_template(template)\n",
    "    # 假设 hf 是已经定义好的处理函数\n",
    "    chain = prompt | hf\n",
    "    # 修改传递给chain.invoke的参数，确保变量名和模板中的一致\n",
    "    result = chain.invoke({\"question\": question})\n",
    "\n",
    "    # 将 context、question 和答案添加到结果列表中\n",
    "    results.append([question, result])\n",
    "\n",
    "# 将结果列表转换为 DataFrame\n",
    "df = pd.DataFrame(results, columns=['Question', 'Answer'])\n",
    "\n",
    "# 将 DataFrame 写入新的 Excel 文件\n",
    "excel_path = 'Qwen-对照组.xlsx'  # 替换为你想要保存的 Excel 文件路径\n",
    "df.to_excel(excel_path, index=False)"
   ]
  }
 ],
 "metadata": {
  "kernelspec": {
   "display_name": "Python 3 (ipykernel)",
   "language": "python",
   "name": "python3"
  },
  "language_info": {
   "codemirror_mode": {
    "name": "ipython",
    "version": 3
   },
   "file_extension": ".py",
   "mimetype": "text/x-python",
   "name": "python",
   "nbconvert_exporter": "python",
   "pygments_lexer": "ipython3",
   "version": "3.10.14"
  }
 },
 "nbformat": 4,
 "nbformat_minor": 5
}
