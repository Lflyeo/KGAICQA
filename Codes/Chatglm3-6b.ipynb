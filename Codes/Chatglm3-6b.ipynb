{
 "cells": [
  {
   "cell_type": "markdown",
   "id": "6d1101f8-845f-492d-87e6-45a0d2ae7557",
   "metadata": {},
   "source": [
    "切换transformers版本 pip install transformers==4.30.2"
   ]
  },
  {
   "cell_type": "code",
   "execution_count": 1,
   "id": "9275f967-0b11-490a-8f6e-8f3a54865520",
   "metadata": {
    "ExecutionIndicator": {
     "show": true
    },
    "execution": {
     "iopub.execute_input": "2025-02-07T08:18:40.699554Z",
     "iopub.status.busy": "2025-02-07T08:18:40.699140Z",
     "iopub.status.idle": "2025-02-07T08:19:14.977144Z",
     "shell.execute_reply": "2025-02-07T08:19:14.976610Z",
     "shell.execute_reply.started": "2025-02-07T08:18:40.699524Z"
    },
    "tags": []
   },
   "outputs": [
    {
     "name": "stderr",
     "output_type": "stream",
     "text": [
      "2025-02-07 16:18:43.041360: I tensorflow/core/util/port.cc:113] oneDNN custom operations are on. You may see slightly different numerical results due to floating-point round-off errors from different computation orders. To turn them off, set the environment variable `TF_ENABLE_ONEDNN_OPTS=0`.\n",
      "2025-02-07 16:18:43.316965: I tensorflow/core/platform/cpu_feature_guard.cc:210] This TensorFlow binary is optimized to use available CPU instructions in performance-critical operations.\n",
      "To enable the following instructions: AVX2 AVX512F AVX512_VNNI FMA, in other operations, rebuild TensorFlow with the appropriate compiler flags.\n",
      "2025-02-07 16:18:44.159111: W tensorflow/compiler/tf2tensorrt/utils/py_utils.cc:38] TF-TRT Warning: Could not find TensorRT\n"
     ]
    },
    {
     "data": {
      "application/vnd.jupyter.widget-view+json": {
       "model_id": "3d395a2ee627486298ee841c3a736c06",
       "version_major": 2,
       "version_minor": 0
      },
      "text/plain": [
       "Loading checkpoint shards:   0%|          | 0/7 [00:00<?, ?it/s]"
      ]
     },
     "metadata": {},
     "output_type": "display_data"
    },
    {
     "name": "stderr",
     "output_type": "stream",
     "text": [
      "The model 'ChatGLMForConditionalGeneration' is not supported for text-generation. Supported models are ['BartForCausalLM', 'BertLMHeadModel', 'BertGenerationDecoder', 'BigBirdForCausalLM', 'BigBirdPegasusForCausalLM', 'BioGptForCausalLM', 'BlenderbotForCausalLM', 'BlenderbotSmallForCausalLM', 'BloomForCausalLM', 'CamembertForCausalLM', 'CodeGenForCausalLM', 'CpmAntForCausalLM', 'CTRLLMHeadModel', 'Data2VecTextForCausalLM', 'ElectraForCausalLM', 'ErnieForCausalLM', 'GitForCausalLM', 'GPT2LMHeadModel', 'GPT2LMHeadModel', 'GPTBigCodeForCausalLM', 'GPTNeoForCausalLM', 'GPTNeoXForCausalLM', 'GPTNeoXJapaneseForCausalLM', 'GPTJForCausalLM', 'LlamaForCausalLM', 'MarianForCausalLM', 'MBartForCausalLM', 'MegaForCausalLM', 'MegatronBertForCausalLM', 'MvpForCausalLM', 'OpenLlamaForCausalLM', 'OpenAIGPTLMHeadModel', 'OPTForCausalLM', 'PegasusForCausalLM', 'PLBartForCausalLM', 'ProphetNetForCausalLM', 'QDQBertLMHeadModel', 'ReformerModelWithLMHead', 'RemBertForCausalLM', 'RobertaForCausalLM', 'RobertaPreLayerNormForCausalLM', 'RoCBertForCausalLM', 'RoFormerForCausalLM', 'RwkvForCausalLM', 'Speech2Text2ForCausalLM', 'TransfoXLLMHeadModel', 'TrOCRForCausalLM', 'XGLMForCausalLM', 'XLMWithLMHeadModel', 'XLMProphetNetForCausalLM', 'XLMRobertaForCausalLM', 'XLMRobertaXLForCausalLM', 'XLNetLMHeadModel', 'XmodForCausalLM'].\n",
      "/tmp/ipykernel_342/3559896359.py:29: LangChainDeprecationWarning: The class `HuggingFacePipeline` was deprecated in LangChain 0.0.37 and will be removed in 1.0. An updated version of the class exists in the :class:`~langchain-huggingface package and should be used instead. To use it run `pip install -U :class:`~langchain-huggingface` and import as `from :class:`~langchain_huggingface import HuggingFacePipeline``.\n",
      "  hf = HuggingFacePipeline(pipeline=pipe)\n"
     ]
    }
   ],
   "source": [
    "# from modelscope.utils.hf_util import AutoModelForCausalLM, AutoTokenizer\n",
    "from transformers import AutoModelForCausalLM, AutoTokenizer, pipeline\n",
    "# from transformers import pipeline\n",
    "from langchain_community.llms.huggingface_pipeline import HuggingFacePipeline\n",
    "from langchain_core.prompts import PromptTemplate\n",
    "import torch\n",
    "import json\n",
    "from tqdm import tqdm\n",
    "import pandas as pd\n",
    "\n",
    "tokenizer = AutoTokenizer.from_pretrained(\"/mnt/workspace/.cache/modelscope/hub/ZhipuAI/chatglm3-6b\",\n",
    "                                          trust_remote_code=True)\n",
    "device = torch.device('cuda:0')  # the device to load the model onto\n",
    "model = AutoModelForCausalLM.from_pretrained(\"/mnt/workspace/.cache/modelscope/hub/ZhipuAI/chatglm3-6b\",\n",
    "                                             device_map={\"\": device},\n",
    "                                             torch_dtype=\"auto\",\n",
    "                                             trust_remote_code=True)\n",
    "model.to(device)\n",
    "pipe = pipeline(\n",
    "    \"text-generation\",\n",
    "    model=model,\n",
    "    tokenizer=tokenizer,\n",
    "    max_new_tokens=512,\n",
    "    # do_sample=True,\n",
    "    temperature=0.1,\n",
    "    top_p=0.95,\n",
    "    top_k=40\n",
    ")\n",
    "hf = HuggingFacePipeline(pipeline=pipe)"
   ]
  },
  {
   "cell_type": "markdown",
   "id": "ff8e2d30-357d-4ab9-a9ac-5824afde20d3",
   "metadata": {
    "tags": []
   },
   "source": [
    "### 实验组"
   ]
  },
  {
   "cell_type": "code",
   "execution_count": null,
   "id": "26df54fc-6249-4d69-819e-874aef260d57",
   "metadata": {
    "tags": []
   },
   "outputs": [],
   "source": [
    "# 读取 JSON 文件\n",
    "file_path = 'aikps_output.json'  # 替换为你的文件路径\n",
    "\n",
    "# 打开并读取 JSON 文件\n",
    "with open(file_path, 'r', encoding='utf-8') as f:\n",
    "    data = json.load(f)\n",
    "\n",
    "# 初始化一个空列表，用于存储结果\n",
    "results = []\n",
    "\n",
    "# 使用 tqdm 创建进度条\n",
    "for item in tqdm(data, desc=\"处理进度\"):\n",
    "    question = item[0]\n",
    "    context = item[1][0]\n",
    "    template =\"\"\"### 这是一道小学三年级人工智能学科的问题，请使用以下上下文来增强你的回答。\n",
    "        {context}\n",
    "        ### 问题: {question}\n",
    "        ### 以{{\"答案\": \"\"}}的JSON格式返回最终结果。\n",
    "    \"\"\"\n",
    "    prompt = PromptTemplate.from_template(template)\n",
    "    # 假设 hf 是已经定义好的处理函数\n",
    "    chain = prompt | hf\n",
    "    # 修改传递给chain.invoke的参数，确保变量名和模板中的一致\n",
    "    result = chain.invoke({\"context\": context, \"question\": question})\n",
    "\n",
    "    # 将 context、question 和答案添加到结果列表中\n",
    "    results.append([context, question, result])\n",
    "\n",
    "# 将结果列表转换为 DataFrame\n",
    "df = pd.DataFrame(results, columns=['Context', 'Question', 'Answer'])\n",
    "\n",
    "# 将 DataFrame 写入新的 Excel 文件\n",
    "excel_path = 'GLM-实验组.xlsx'  # 替换为你想要保存的 Excel 文件路径\n",
    "df.to_excel(excel_path, index=False)"
   ]
  },
  {
   "cell_type": "code",
   "execution_count": 4,
   "id": "ace83b11-4070-4bea-87f3-4f58a7ce61cb",
   "metadata": {
    "ExecutionIndicator": {
     "show": true
    },
    "execution": {
     "iopub.execute_input": "2025-02-07T08:45:12.807633Z",
     "iopub.status.busy": "2025-02-07T08:45:12.807301Z",
     "iopub.status.idle": "2025-02-07T08:45:14.044667Z",
     "shell.execute_reply": "2025-02-07T08:45:14.044173Z",
     "shell.execute_reply.started": "2025-02-07T08:45:12.807611Z"
    },
    "tags": []
   },
   "outputs": [
    {
     "name": "stdout",
     "output_type": "stream",
     "text": [
      "### 这是一道小学三年级人工智能学科的问题，请使用以下上下文来增强你的回答。\n",
      "    '3.长得像人类的机器人才叫人工智能。(______)'\n",
      "    ### 问题: 人工智能科学家有谁？\n",
      "    ### 以{\"答案\": \"\"}的JSON格式返回最终结果。\n",
      "    {\"答案\": \"人工智能科学家有Alan Turing、John McCarthy、Marvin Minsky、Norbert Wiener、Claude Shannon、Herbert Kauden\"}\n"
     ]
    }
   ],
   "source": [
    "question = \"人工智能科学家有谁？\"\n",
    "context = \"'3.长得像人类的机器人才叫人工智能。(______)'\"\n",
    "template =\"\"\"### 这是一道小学三年级人工智能学科的问题，请使用以下上下文来增强你的回答。\n",
    "    {context}\n",
    "    ### 问题: {question}\n",
    "    ### 以{{\"答案\": \"\"}}的JSON格式返回最终结果。\n",
    "\"\"\"\n",
    "prompt = PromptTemplate.from_template(template)\n",
    "# 假设 hf 是已经定义好的处理函数\n",
    "chain = prompt | hf\n",
    "# 修改传递给chain.invoke的参数，确保变量名和模板中的一致\n",
    "result = chain.invoke({\"context\": context, \"question\": question})\n",
    "print(result)"
   ]
  },
  {
   "cell_type": "markdown",
   "id": "71182bbf-8e1e-4482-a4c1-b1f2da00388c",
   "metadata": {},
   "source": [
    "### 对照组"
   ]
  },
  {
   "cell_type": "code",
   "execution_count": null,
   "id": "ae4be3ed-13ec-4bd1-afb1-68909e426f36",
   "metadata": {
    "tags": []
   },
   "outputs": [],
   "source": [
    "# 读取 JSON 文件\n",
    "file_path = 'aikps_output.json'  # 替换为你的文件路径\n",
    "\n",
    "# 打开并读取 JSON 文件\n",
    "with open(file_path, 'r', encoding='utf-8') as f:\n",
    "    data = json.load(f)\n",
    "\n",
    "# 初始化一个空列表，用于存储结果\n",
    "results = []\n",
    "\n",
    "# 使用 tqdm 创建进度条\n",
    "for item in tqdm(data, desc=\"处理进度\"):\n",
    "    question = item[0]\n",
    "    template =\"\"\"### 这是一道小学三年级人工智能学科的问题，请给出你的答案。\n",
    "        ### 问题: {question}\n",
    "        ### 以{{\"答案\": \"\"}}的JSON格式返回最终结果。\n",
    "    \"\"\"\n",
    "    prompt = PromptTemplate.from_template(template)\n",
    "    # 假设 hf 是已经定义好的处理函数\n",
    "    chain = prompt | hf\n",
    "    # 修改传递给chain.invoke的参数，确保变量名和模板中的一致\n",
    "    result = chain.invoke({\"question\": question})\n",
    "\n",
    "    # 将 context、question 和答案添加到结果列表中\n",
    "    results.append([question, result])\n",
    "\n",
    "# 将结果列表转换为 DataFrame\n",
    "df = pd.DataFrame(results, columns=['Question', 'Answer'])\n",
    "\n",
    "# 将 DataFrame 写入新的 Excel 文件\n",
    "excel_path = 'GLM-对照组.xlsx'  # 替换为你想要保存的 Excel 文件路径\n",
    "df.to_excel(excel_path, index=False)"
   ]
  },
  {
   "cell_type": "code",
   "execution_count": 3,
   "id": "bda54ec7-8a29-4766-91ff-79b2ebd76b57",
   "metadata": {
    "ExecutionIndicator": {
     "show": true
    },
    "execution": {
     "iopub.execute_input": "2025-02-07T08:42:55.126931Z",
     "iopub.status.busy": "2025-02-07T08:42:55.126579Z",
     "iopub.status.idle": "2025-02-07T08:43:03.906538Z",
     "shell.execute_reply": "2025-02-07T08:43:03.905844Z",
     "shell.execute_reply.started": "2025-02-07T08:42:55.126911Z"
    },
    "tags": []
   },
   "outputs": [
    {
     "name": "stdout",
     "output_type": "stream",
     "text": [
      "### 这是一道小学三年级人工智能学科的问题，请给出你的答案。\n",
      "    ### 问题: 人工智能科学家有谁？\n",
      "    ### 以{\"答案\": \"\"}的JSON格式返回最终结果。\n",
      "    \n",
      "    请注意，由于我是一个人工智能助手，我可能对某些人物的了解可能有限。我会尽我所能提供有关人工智能领域的一些著名科学家。\n",
      "    \n",
      "    根据我的知识，以下是一些著名的人工智能科学家：\n",
      "    \n",
      "    - 艾伦·图灵：英国数学家、逻辑学家、计算机科学家，被认为是人工智能领域的奠基人之一。\n",
      "    - 约翰·麦卡锡：美国计算机科学家、人工智能专家，是人工智能领域的先驱之一。\n",
      "    - 克劳德·香农：美国数学家、逻辑学家、计算机科学家，是信息论和人工智能领域的奠基人之一。\n",
      "    - 约瑟夫·Weizenbaum：美国计算机科学家，是人工智能领域的先驱之一，被誉为“人工智能之父”。\n",
      "    -  Marvin Minsky：美国计算机科学家、人工智能专家，是人工智能领域的奠基人之一。\n",
      "    - 约翰·霍普金斯：美国计算机科学家、人工智能专家，是人工智能领域的奠基人之一。\n",
      "    \n",
      "    这些科学家为人工智能领域的发展做出了巨大贡献。希望这些信息对您有所帮助！\n",
      "    \n",
      "    {\"答案\": \"艾伦·图灵、约翰·麦卡锡、克劳德·香农、约瑟夫·Weizenbaum、Marvin Minsky、约翰·霍普金斯\"}\n"
     ]
    }
   ],
   "source": [
    "question = \"人工智能科学家有谁？\"\n",
    "template =\"\"\"### 这是一道小学三年级人工智能学科的问题，请给出你的答案。\n",
    "    ### 问题: {question}\n",
    "    ### 以{{\"答案\": \"\"}}的JSON格式返回最终结果。\n",
    "\"\"\"\n",
    "prompt = PromptTemplate.from_template(template)\n",
    "# 假设 hf 是已经定义好的处理函数\n",
    "chain = prompt | hf\n",
    "# 修改传递给chain.invoke的参数，确保变量名和模板中的一致\n",
    "result = chain.invoke({\"question\": question})\n",
    "print(result)"
   ]
  }
 ],
 "metadata": {
  "kernelspec": {
   "display_name": "Python 3 (ipykernel)",
   "language": "python",
   "name": "python3"
  },
  "language_info": {
   "codemirror_mode": {
    "name": "ipython",
    "version": 3
   },
   "file_extension": ".py",
   "mimetype": "text/x-python",
   "name": "python",
   "nbconvert_exporter": "python",
   "pygments_lexer": "ipython3",
   "version": "3.10.14"
  }
 },
 "nbformat": 4,
 "nbformat_minor": 5
}
