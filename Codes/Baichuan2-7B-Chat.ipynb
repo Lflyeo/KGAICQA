{
 "cells": [
  {
   "cell_type": "code",
   "execution_count": 1,
   "id": "403caa39-4049-432b-84fd-6e140c35fa14",
   "metadata": {
    "ExecutionIndicator": {
     "show": false
    },
    "execution": {
     "iopub.execute_input": "2025-01-22T02:08:34.596009Z",
     "iopub.status.busy": "2025-01-22T02:08:34.595705Z",
     "iopub.status.idle": "2025-01-22T02:08:40.965619Z",
     "shell.execute_reply": "2025-01-22T02:08:40.965141Z",
     "shell.execute_reply.started": "2025-01-22T02:08:34.595989Z"
    },
    "tags": []
   },
   "outputs": [
    {
     "name": "stderr",
     "output_type": "stream",
     "text": [
      "2025-01-22 10:08:38.601131: I tensorflow/core/util/port.cc:113] oneDNN custom operations are on. You may see slightly different numerical results due to floating-point round-off errors from different computation orders. To turn them off, set the environment variable `TF_ENABLE_ONEDNN_OPTS=0`.\n",
      "2025-01-22 10:08:38.873537: I tensorflow/core/platform/cpu_feature_guard.cc:210] This TensorFlow binary is optimized to use available CPU instructions in performance-critical operations.\n",
      "To enable the following instructions: AVX2 AVX512F AVX512_VNNI FMA, in other operations, rebuild TensorFlow with the appropriate compiler flags.\n",
      "2025-01-22 10:08:39.770922: W tensorflow/compiler/tf2tensorrt/utils/py_utils.cc:38] TF-TRT Warning: Could not find TensorRT\n"
     ]
    }
   ],
   "source": [
    "# from modelscope.utils.hf_util import AutoModelForCausalLM, AutoTokenizer\n",
    "from transformers import AutoModelForCausalLM, AutoTokenizer, pipeline\n",
    "# from transformers import pipeline\n",
    "from langchain_community.llms.huggingface_pipeline import HuggingFacePipeline\n",
    "from langchain_core.prompts import PromptTemplate\n",
    "import torch\n",
    "import json\n",
    "from tqdm import tqdm\n",
    "import pandas as pd"
   ]
  },
  {
   "cell_type": "code",
   "execution_count": 2,
   "id": "504deba9-d932-4184-8a36-a908152a20d7",
   "metadata": {
    "ExecutionIndicator": {
     "show": true
    },
    "execution": {
     "iopub.execute_input": "2025-01-22T02:08:44.888663Z",
     "iopub.status.busy": "2025-01-22T02:08:44.888148Z",
     "iopub.status.idle": "2025-01-22T02:09:21.159576Z",
     "shell.execute_reply": "2025-01-22T02:09:21.159101Z",
     "shell.execute_reply.started": "2025-01-22T02:08:44.888639Z"
    },
    "tags": []
   },
   "outputs": [
    {
     "name": "stderr",
     "output_type": "stream",
     "text": [
      "Device set to use cuda:0\n",
      "/tmp/ipykernel_237/479935181.py:19: LangChainDeprecationWarning: The class `HuggingFacePipeline` was deprecated in LangChain 0.0.37 and will be removed in 1.0. An updated version of the class exists in the :class:`~langchain-huggingface package and should be used instead. To use it run `pip install -U :class:`~langchain-huggingface` and import as `from :class:`~langchain_huggingface import HuggingFacePipeline``.\n",
      "  hf = HuggingFacePipeline(pipeline=pipe)\n"
     ]
    }
   ],
   "source": [
    "tokenizer = AutoTokenizer.from_pretrained(\"/mnt/workspace/.cache/modelscope/hub/baichuan-inc/Baichuan2-7B-Chat\",\n",
    "                                          trust_remote_code=True)\n",
    "device = torch.device('cuda:0')  # the device to load the model onto\n",
    "model = AutoModelForCausalLM.from_pretrained(\"/mnt/workspace/.cache/modelscope/hub/baichuan-inc/Baichuan2-7B-Chat\",\n",
    "                                             device_map={\"\": device},\n",
    "                                             torch_dtype=\"auto\",\n",
    "                                             trust_remote_code=True)\n",
    "model.to(device)\n",
    "pipe = pipeline(\n",
    "    \"text-generation\",\n",
    "    model=model,\n",
    "    tokenizer=tokenizer,\n",
    "    max_new_tokens=512,\n",
    "    # do_sample=True,\n",
    "    temperature=0.1,\n",
    "    top_p=0.95,\n",
    "    top_k=40\n",
    ")\n",
    "hf = HuggingFacePipeline(pipeline=pipe)"
   ]
  },
  {
   "cell_type": "markdown",
   "id": "d0485996-7910-4cf0-8d5a-5527e72e15b1",
   "metadata": {},
   "source": [
    "### 实验组"
   ]
  },
  {
   "cell_type": "code",
   "execution_count": null,
   "id": "68462092-f411-4972-9306-f9fc478795a3",
   "metadata": {
    "ExecutionIndicator": {
     "show": true
    },
    "tags": []
   },
   "outputs": [],
   "source": [
    "# 读取 JSON 文件\n",
    "file_path = 'aikps_output.json'  # 替换为你的文件路径\n",
    "\n",
    "# 打开并读取 JSON 文件\n",
    "with open(file_path, 'r', encoding='utf-8') as f:\n",
    "    data = json.load(f)\n",
    "\n",
    "# 初始化一个空列表，用于存储结果\n",
    "results = []\n",
    "\n",
    "# 使用 tqdm 创建进度条\n",
    "for item in tqdm(data, desc=\"处理进度\"):\n",
    "    question = '如果你的智能设备不能理解你的话，你会感到沮丧吗？'\n",
    "    context = '2.人类给了人工智能听懂人类的话语并按要求完成任务的能力。(______)'\n",
    "    template =\"\"\"### 这是一道小学三年级人工智能学科的问题，请使用以下上下文来增强你的回答。\n",
    "        {context}\n",
    "        ### 问题: {question}\n",
    "        ### 以{{\"答案\": \"\"}}的JSON格式返回最终结果。\n",
    "    \"\"\"\n",
    "    prompt = PromptTemplate.from_template(template)\n",
    "    # 假设 hf 是已经定义好的处理函数\n",
    "    chain = prompt | hf\n",
    "    # 修改传递给chain.invoke的参数，确保变量名和模板中的一致\n",
    "    result = chain.invoke({\"context\": context, \"question\": question})\n",
    "\n",
    "    # 将 context、question 和答案添加到结果列表中\n",
    "    results.append([context, question, result])\n",
    "\n",
    "# 将结果列表转换为 DataFrame\n",
    "df = pd.DataFrame(results, columns=['Context', 'Question', 'Answer'])\n",
    "\n",
    "# 将 DataFrame 写入新的 Excel 文件\n",
    "excel_path = 'Baichuan-实验组.xlsx'  # 替换为你想要保存的 Excel 文件路径\n",
    "df.to_excel(excel_path, index=False)"
   ]
  },
  {
   "cell_type": "code",
   "execution_count": 15,
   "id": "2070d79b-826b-4095-8317-74988a479ee1",
   "metadata": {
    "ExecutionIndicator": {
     "show": true
    },
    "execution": {
     "iopub.execute_input": "2025-01-22T01:58:28.783505Z",
     "iopub.status.busy": "2025-01-22T01:58:28.783189Z",
     "iopub.status.idle": "2025-01-22T01:58:31.322583Z",
     "shell.execute_reply": "2025-01-22T01:58:31.321988Z",
     "shell.execute_reply.started": "2025-01-22T01:58:28.783483Z"
    },
    "tags": []
   },
   "outputs": [
    {
     "name": "stderr",
     "output_type": "stream",
     "text": [
      "/usr/local/lib/python3.10/site-packages/torch/backends/cuda/__init__.py:342: FutureWarning: torch.backends.cuda.sdp_kernel() is deprecated. In the future, this context manager will be removed. Please see, torch.nn.attention.sdpa_kernel() for the new context manager, with updated signature.\n",
      "  warnings.warn(\n"
     ]
    },
    {
     "name": "stdout",
     "output_type": "stream",
     "text": [
      "### 这是一道小学三年级人工智能学科的问题，请使用以下上下文来增强你的回答。\n",
      "    了解语音合成的技术原理，掌握常见语音合成软件的使用方法。\n",
      "    ### 问题: 常见的语音合成软件有什么？\n",
      "    ### 以{\"答案\": \"\"}的JSON格式返回最终结果。\n",
      "    ```\n",
      "    {\n",
      "      \"answer\": \"常见的语音合成软件有：Google Text-to-Speech、Amazon Polly、Microsoft Azure Cognitive Services Speech Service 和 IBM Watson Speech to Text。这些软件可以将文本转换为自然 sounding 的语音输出，广泛应用于智能音箱、手机应用、导航系统等领域。\"\n",
      "    }\n"
     ]
    }
   ],
   "source": [
    "question = '常见的语音合成软件有什么？'\n",
    "context = \"了解语音合成的技术原理，掌握常见语音合成软件的使用方法。\"\n",
    "template =\"\"\"### 这是一道小学三年级人工智能学科的问题，请使用以下上下文来增强你的回答。\n",
    "    {context}\n",
    "    ### 问题: {question}\n",
    "    ### 以{{\"答案\": \"\"}}的JSON格式返回最终结果。\n",
    "\"\"\"\n",
    "prompt = PromptTemplate.from_template(template)\n",
    "# 假设 hf 是已经定义好的处理函数\n",
    "chain = prompt | hf\n",
    "# 修改传递给chain.invoke的参数，确保变量名和模板中的一致\n",
    "result = chain.invoke({\"context\": context, \"question\": question})\n",
    "print(result)"
   ]
  },
  {
   "cell_type": "markdown",
   "id": "1f1348ae-dad6-4863-ac2a-0cf12d8d80b3",
   "metadata": {},
   "source": [
    "### 对照组"
   ]
  },
  {
   "cell_type": "code",
   "execution_count": null,
   "id": "c98ab80b-2ad8-4cdf-813a-4c6eef395e05",
   "metadata": {
    "tags": []
   },
   "outputs": [],
   "source": [
    "# 读取 JSON 文件\n",
    "file_path = 'aikps_output.json'  # 替换为你的文件路径\n",
    "\n",
    "# 打开并读取 JSON 文件\n",
    "with open(file_path, 'r', encoding='utf-8') as f:\n",
    "    data = json.load(f)\n",
    "\n",
    "# 初始化一个空列表，用于存储结果\n",
    "results = []\n",
    "\n",
    "# 使用 tqdm 创建进度条\n",
    "for item in tqdm(data, desc=\"处理进度\"):\n",
    "    question = item[0]\n",
    "    template =\"\"\"### 这是一道小学三年级人工智能学科的问题，请给出你的答案。\n",
    "        ### 问题: {question}\n",
    "        ### 以{{\"答案\": \"\"}}的JSON格式返回最终结果。\n",
    "    \"\"\"\n",
    "    prompt = PromptTemplate.from_template(template)\n",
    "    # 假设 hf 是已经定义好的处理函数\n",
    "    chain = prompt | hf\n",
    "    # 修改传递给chain.invoke的参数，确保变量名和模板中的一致\n",
    "    result = chain.invoke({\"question\": question})\n",
    "\n",
    "    # 将 context、question 和答案添加到结果列表中\n",
    "    results.append([question, result])\n",
    "\n",
    "# 将结果列表转换为 DataFrame\n",
    "df = pd.DataFrame(results, columns=['Question', 'Answer'])\n",
    "\n",
    "# 将 DataFrame 写入新的 Excel 文件\n",
    "excel_path = 'Baichuan-对照组.xlsx'  # 替换为你想要保存的 Excel 文件路径\n",
    "df.to_excel(excel_path, index=False)"
   ]
  },
  {
   "cell_type": "code",
   "execution_count": 5,
   "id": "81728794-f17e-4392-aff5-2460ecd56934",
   "metadata": {
    "ExecutionIndicator": {
     "show": true
    },
    "execution": {
     "iopub.execute_input": "2025-01-22T02:11:52.029407Z",
     "iopub.status.busy": "2025-01-22T02:11:52.029095Z",
     "iopub.status.idle": "2025-01-22T02:11:52.798317Z",
     "shell.execute_reply": "2025-01-22T02:11:52.797831Z",
     "shell.execute_reply.started": "2025-01-22T02:11:52.029388Z"
    },
    "tags": []
   },
   "outputs": [
    {
     "name": "stderr",
     "output_type": "stream",
     "text": [
      "/usr/local/lib/python3.10/site-packages/torch/backends/cuda/__init__.py:342: FutureWarning: torch.backends.cuda.sdp_kernel() is deprecated. In the future, this context manager will be removed. Please see, torch.nn.attention.sdpa_kernel() for the new context manager, with updated signature.\n",
      "  warnings.warn(\n"
     ]
    },
    {
     "name": "stdout",
     "output_type": "stream",
     "text": [
      "### 这是一道小学三年级人工智能学科的问题，请给出你的答案。\n",
      "    ### 问题: 在语音合成过程中，语音的质量通常受______（语音库、算法等）和______（语速、音调等）等因素的影响。\n",
      "    ### 以{\"答案\": \"\"}的JSON格式返回最终结果。\n",
      "    {\n",
      "      \"answer\": \"语音库, 语速, 音调\"\n",
      "    }\n"
     ]
    }
   ],
   "source": [
    "question = \"在语音合成过程中，语音的质量通常受______（语音库、算法等）和______（语速、音调等）等因素的影响。\"\n",
    "template =\"\"\"### 这是一道小学三年级人工智能学科的问题，请给出你的答案。\n",
    "    ### 问题: {question}\n",
    "    ### 以{{\"答案\": \"\"}}的JSON格式返回最终结果。\n",
    "\"\"\"\n",
    "prompt = PromptTemplate.from_template(template)\n",
    "# 假设 hf 是已经定义好的处理函数\n",
    "chain = prompt | hf\n",
    "# 修改传递给chain.invoke的参数，确保变量名和模板中的一致\n",
    "result = chain.invoke({\"question\": question})\n",
    "print(result)"
   ]
  }
 ],
 "metadata": {
  "kernelspec": {
   "display_name": "Python 3 (ipykernel)",
   "language": "python",
   "name": "python3"
  },
  "language_info": {
   "codemirror_mode": {
    "name": "ipython",
    "version": 3
   },
   "file_extension": ".py",
   "mimetype": "text/x-python",
   "name": "python",
   "nbconvert_exporter": "python",
   "pygments_lexer": "ipython3",
   "version": "3.10.14"
  }
 },
 "nbformat": 4,
 "nbformat_minor": 5
}
